{
 "cells": [
  {
   "cell_type": "code",
   "execution_count": 1,
   "metadata": {},
   "outputs": [
    {
     "data": {
      "text/plain": [
       "'temp-plot.html'"
      ]
     },
     "execution_count": 1,
     "metadata": {},
     "output_type": "execute_result"
    }
   ],
   "source": [
    "from pycirclize_TEST import Circos\n",
    "from plotly.offline import plot\n",
    "\n",
    "# Initialize circos sectors\n",
    "sectors = {\"A\": 10, \"B\": 15, \"C\": 12, \"D\": 20, \"E\": 15}\n",
    "circos = Circos(sectors, space=5)\n",
    "\n",
    "for sector in circos.sectors:\n",
    "    # Plot sector axis & name text\n",
    "    sector.axis(fillcolor=None, line=dict(color=\"black\", dash=\"dashdot\", width=2), opacity=0.5)\n",
    "    sector.text(f\"Sector: {sector.name}={sector.size}\", font=dict(size=20))\n",
    "    # Set Track01 (Radius: 75 - 100)\n",
    "    track1 = sector.add_track((75, 100))\n",
    "    track1.axis(fillcolor=\"tomato\", opacity=0.5)\n",
    "    track1.text(track1.name)\n",
    "    # Set Track02 (Radius: 45 - 70)\n",
    "    track2 = sector.add_track((45, 70))\n",
    "    track2.axis(fillcolor=\"cyan\", opacity=0.5)\n",
    "    track2.text(track2.name)\n",
    "    # Set Track03 (Radius: 15 - 40)\n",
    "    track3 = sector.add_track((15, 40))\n",
    "    track3.axis(fillcolor=\"lime\", opacity=0.5)\n",
    "    track3.text(track3.name)\n",
    "\n",
    "fig = circos.plotfig()\n",
    "plot(fig)"
   ]
  },
  {
   "cell_type": "code",
   "execution_count": 2,
   "metadata": {},
   "outputs": [
    {
     "data": {
      "text/plain": [
       "'temp-plot.html'"
      ]
     },
     "execution_count": 2,
     "metadata": {},
     "output_type": "execute_result"
    }
   ],
   "source": [
    "from pycirclize_TEST import Circos\n",
    "from plotly.offline import plot\n",
    "\n",
    "# Initialize circos sectors\n",
    "sectors = {\"A\": 10, \"B\": 15, \"C\": 12, \"D\": 20, \"E\": 15}\n",
    "circos = Circos(sectors, space=5, start=-270, end=30)\n",
    "\n",
    "for sector in circos.sectors:\n",
    "    # Plot sector axis & name text\n",
    "    sector.axis(fillcolor=\"green\", line=dict(color=\"red\", dash=\"dashdot\", width=10), opacity=1)\n",
    "    sector.text(f\"Sector: {sector.name}={sector.size}\")\n",
    "\n",
    "fig = circos.plotfig()\n",
    "plot(fig)"
   ]
  },
  {
   "cell_type": "code",
   "execution_count": 3,
   "metadata": {},
   "outputs": [
    {
     "ename": "NameError",
     "evalue": "name 'Normalize' is not defined",
     "output_type": "error",
     "traceback": [
      "\u001b[31m---------------------------------------------------------------------------\u001b[39m",
      "\u001b[31mNameError\u001b[39m                                 Traceback (most recent call last)",
      "\u001b[36mCell\u001b[39m\u001b[36m \u001b[39m\u001b[32mIn[3]\u001b[39m\u001b[32m, line 18\u001b[39m\n\u001b[32m     16\u001b[39m     line_track.axis()\n\u001b[32m     17\u001b[39m     line_track.xticks_by_interval(\u001b[32m1\u001b[39m)\n\u001b[32m---> \u001b[39m\u001b[32m18\u001b[39m     \u001b[43mline_track\u001b[49m\u001b[43m.\u001b[49m\u001b[43mline\u001b[49m\u001b[43m(\u001b[49m\u001b[43mx\u001b[49m\u001b[43m,\u001b[49m\u001b[43m \u001b[49m\u001b[43my\u001b[49m\u001b[43m)\u001b[49m\n\u001b[32m     19\u001b[39m     \u001b[38;5;66;03m# # Plot points\u001b[39;00m\n\u001b[32m     20\u001b[39m     \u001b[38;5;66;03m# points_track = sector.add_track((45, 70), r_pad_ratio=0.1)\u001b[39;00m\n\u001b[32m     21\u001b[39m     \u001b[38;5;66;03m# points_track.axis()\u001b[39;00m\n\u001b[32m   (...)\u001b[39m\u001b[32m     25\u001b[39m     \u001b[38;5;66;03m# bar_track.axis()\u001b[39;00m\n\u001b[32m     26\u001b[39m     \u001b[38;5;66;03m# bar_track.bar(x, y)\u001b[39;00m\n\u001b[32m     28\u001b[39m fig = circos.plotfig()\n",
      "\u001b[36mFile \u001b[39m\u001b[32m~/source/repos/my-repos/pyCirclize/src/pycirclize_TEST/track.py:743\u001b[39m, in \u001b[36mTrack.line\u001b[39m\u001b[34m(self, x, y, vmin, vmax, arc, **kwargs)\u001b[39m\n\u001b[32m    741\u001b[39m rad = [\u001b[38;5;28mself\u001b[39m.x_to_rad(pos) \u001b[38;5;28;01mfor\u001b[39;00m pos \u001b[38;5;129;01min\u001b[39;00m x]\n\u001b[32m    742\u001b[39m vmax = \u001b[38;5;28mmax\u001b[39m(y) \u001b[38;5;28;01mif\u001b[39;00m vmax \u001b[38;5;129;01mis\u001b[39;00m \u001b[38;5;28;01mNone\u001b[39;00m \u001b[38;5;28;01melse\u001b[39;00m vmax\n\u001b[32m--> \u001b[39m\u001b[32m743\u001b[39m r = [\u001b[38;5;28;43mself\u001b[39;49m\u001b[43m.\u001b[49m\u001b[43m_y_to_r\u001b[49m\u001b[43m(\u001b[49m\u001b[43mval\u001b[49m\u001b[43m,\u001b[49m\u001b[43m \u001b[49m\u001b[43mvmin\u001b[49m\u001b[43m,\u001b[49m\u001b[43m \u001b[49m\u001b[43mvmax\u001b[49m\u001b[43m)\u001b[49m \u001b[38;5;28;01mfor\u001b[39;00m val \u001b[38;5;129;01min\u001b[39;00m y]\n\u001b[32m    745\u001b[39m \u001b[38;5;28;01mif\u001b[39;00m arc:\n\u001b[32m    746\u001b[39m     \u001b[38;5;66;03m# Create curved arc line\u001b[39;00m\n\u001b[32m    747\u001b[39m     path = PolarSVGPatchBuilder.arc_line(\n\u001b[32m    748\u001b[39m         rad_lim=(\u001b[38;5;28mmin\u001b[39m(rad), \u001b[38;5;28mmax\u001b[39m(rad)),\n\u001b[32m    749\u001b[39m         r_lim=(\u001b[38;5;28mmin\u001b[39m(r), \u001b[38;5;28mmax\u001b[39m(r))\n\u001b[32m    750\u001b[39m     )\n",
      "\u001b[36mFile \u001b[39m\u001b[32m~/source/repos/my-repos/pyCirclize/src/pycirclize_TEST/track.py:1420\u001b[39m, in \u001b[36mTrack._y_to_r\u001b[39m\u001b[34m(self, y, vmin, vmax)\u001b[39m\n\u001b[32m   1403\u001b[39m \u001b[38;5;28;01mdef\u001b[39;00m\u001b[38;5;250m \u001b[39m\u001b[34m_y_to_r\u001b[39m(\u001b[38;5;28mself\u001b[39m, y: \u001b[38;5;28mfloat\u001b[39m, vmin: \u001b[38;5;28mfloat\u001b[39m, vmax: \u001b[38;5;28mfloat\u001b[39m) -> \u001b[38;5;28mfloat\u001b[39m:\n\u001b[32m   1404\u001b[39m \u001b[38;5;250m    \u001b[39m\u001b[33;03m\"\"\"Convert y coordinate to radius in track\u001b[39;00m\n\u001b[32m   1405\u001b[39m \n\u001b[32m   1406\u001b[39m \u001b[33;03m    Parameters\u001b[39;00m\n\u001b[32m   (...)\u001b[39m\u001b[32m   1418\u001b[39m \u001b[33;03m        Converted radius position\u001b[39;00m\n\u001b[32m   1419\u001b[39m \u001b[33;03m    \"\"\"\u001b[39;00m\n\u001b[32m-> \u001b[39m\u001b[32m1420\u001b[39m     norm = \u001b[43mNormalize\u001b[49m(vmin, vmax)\n\u001b[32m   1421\u001b[39m     r = \u001b[38;5;28mmin\u001b[39m(\u001b[38;5;28mself\u001b[39m.r_plot_lim) + (\u001b[38;5;28mself\u001b[39m.r_plot_size * norm(y))\n\u001b[32m   1422\u001b[39m     \u001b[38;5;28;01mreturn\u001b[39;00m r\n",
      "\u001b[31mNameError\u001b[39m: name 'Normalize' is not defined"
     ]
    }
   ],
   "source": [
    "from pycirclize_TEST import Circos\n",
    "from plotly.offline import plot\n",
    "import numpy as np\n",
    "np.random.seed(0)\n",
    "\n",
    "sectors = {\"A\": 10, \"B\": 15, \"C\": 12, \"D\": 20, \"E\": 15}\n",
    "circos = Circos(sectors, space=5)\n",
    "for sector in circos.sectors:\n",
    "    # Plot sector name\n",
    "    sector.text(f\"Sector: {sector.name}\", font=dict(size=20))\n",
    "    # Create x positions & randomized y values for data plotting\n",
    "    x = np.arange(sector.start, sector.end) + 0.5\n",
    "    y = np.random.randint(0, 100, len(x))\n",
    "    # Plot line\n",
    "    line_track = sector.add_track((75, 100), r_pad_ratio=0.1)\n",
    "    line_track.axis()\n",
    "    line_track.xticks_by_interval(1)\n",
    "    line_track.line(x, y)\n",
    "    # # Plot points\n",
    "    # points_track = sector.add_track((45, 70), r_pad_ratio=0.1)\n",
    "    # points_track.axis()\n",
    "    # points_track.scatter(x, y)\n",
    "    # # Plot bar\n",
    "    # bar_track = sector.add_track((15, 40), r_pad_ratio=0.1)\n",
    "    # bar_track.axis()\n",
    "    # bar_track.bar(x, y)\n",
    "\n",
    "fig = circos.plotfig()\n",
    "plot(fig)"
   ]
  },
  {
   "cell_type": "code",
   "execution_count": 1,
   "metadata": {},
   "outputs": [],
   "source": [
    "from svgpathtools import Arc, Line, Path\n",
    "import numpy as np\n",
    "from math import cos, sin\n",
    "import cmath\n",
    "\n",
    "class ArcRectangle(Path):\n",
    "    \"\"\"ArcRectangle shape based on polar coordinates, as an SVG Path.\"\"\"\n",
    "\n",
    "    def __init__(self, radr: tuple[float, float], width: float, height: float, step: float = 0.02):\n",
    "        \"\"\"\n",
    "        Parameters\n",
    "        ----------\n",
    "        radr : tuple[float, float]\n",
    "            Anchor point (rad, r), starting angle and radius.\n",
    "        width : float\n",
    "            Radian width of the arc rectangle.\n",
    "        height : float\n",
    "            Radial height of the arc rectangle.\n",
    "        step : float\n",
    "            Step in radians to sample arcs (optional).\n",
    "        \"\"\"\n",
    "        self.radr = radr\n",
    "        self.width = width\n",
    "        self.height = height\n",
    "        self.step = step\n",
    "\n",
    "        min_rad, min_r = radr\n",
    "        max_rad = min_rad + width\n",
    "        max_r = min_r + height\n",
    "\n",
    "        arc_rads = np.arange(min_rad, max_rad, step)\n",
    "        arc_rads = np.append(arc_rads, max_rad)\n",
    "\n",
    "        # Bottom and top arc points\n",
    "        bottom_arc_pts = [self._polar_to_complex(theta, min_r) for theta in arc_rads]\n",
    "        top_arc_pts = [self._polar_to_complex(theta, max_r) for theta in arc_rads[::-1]]\n",
    "\n",
    "        # Construct path segments\n",
    "        segments = []\n",
    "\n",
    "        # Bottom arc as small arcs between each point\n",
    "        for p0, p1 in zip(bottom_arc_pts[:-1], bottom_arc_pts[1:]):\n",
    "            arc = Arc(start=p0, end=p1, radius=min_r + 0j,\n",
    "                      rotation=0, large_arc=False, sweep=True)\n",
    "            segments.append(arc)\n",
    "\n",
    "        # Vertical side\n",
    "        segments.append(Line(bottom_arc_pts[-1], top_arc_pts[0]))\n",
    "\n",
    "        # Top arc\n",
    "        for p0, p1 in zip(top_arc_pts[:-1], top_arc_pts[1:]):\n",
    "            arc = Arc(start=p0, end=p1, radius=max_r + 0j,\n",
    "                      rotation=0, large_arc=False, sweep=False)\n",
    "            segments.append(arc)\n",
    "\n",
    "        # Vertical closing line\n",
    "        segments.append(Line(top_arc_pts[-1], bottom_arc_pts[0]))\n",
    "\n",
    "        # Initialize as a Path\n",
    "        super().__init__(*segments)\n",
    "\n",
    "    def _polar_to_complex(self, theta: float, r: float) -> complex:\n",
    "        \"\"\"Convert polar coordinates to complex (x + iy).\"\"\"\n",
    "        return r * cmath.exp(1j * theta)"
   ]
  },
  {
   "cell_type": "code",
   "execution_count": 1,
   "metadata": {},
   "outputs": [],
   "source": [
    "import numpy as np\n",
    "\n",
    "lol = 0.01\n",
    "\n",
    "class PolarSVGPathBuilder:\n",
    "    def __init__(self, step: float = 0.01):\n",
    "        self.step = step\n",
    "\n",
    "    @staticmethod\n",
    "    def _polar_to_cart(theta: float, r: float) -> tuple[float, float]:\n",
    "        return r * np.cos(theta), r * np.sin(theta)\n",
    "\n",
    "    @staticmethod\n",
    "    def _svg_path_from_points(points: list[tuple[float, float]], closed: bool = False) -> str:\n",
    "        if not points:\n",
    "            return \"\"\n",
    "        path = [f\"M {points[0][0]} {points[0][1]}\"]\n",
    "        path += [f\"L {x} {y}\" for x, y in points[1:]]\n",
    "        if closed:\n",
    "            path.append(\"Z\")\n",
    "        return \" \".join(path)\n",
    "    \n",
    "    def arc_rectangle(self, radr: tuple[float, float], width: float, height: float) -> str:\n",
    "        min_rad, min_r = radr\n",
    "        max_rad = min_rad + width\n",
    "        max_r = min_r + height\n",
    "\n",
    "        arc_rads = np.arange(min_rad, max_rad, self.step)\n",
    "        arc_rads = np.append(arc_rads, max_rad)\n",
    "\n",
    "        bottom_arc = [PolarSVGPathBuilder._polar_to_cart(theta, min_r) for theta in arc_rads]\n",
    "        upper_arc = [PolarSVGPathBuilder._polar_to_cart(theta, max_r) for theta in arc_rads[::-1]]\n",
    "        points = bottom_arc + upper_arc + [bottom_arc[0]]\n",
    "        return PolarSVGPathBuilder._svg_path_from_points(points, closed=True)\n",
    "    \n",
    "    def arc_line(self, rad_lim: tuple[float, float], r_lim: tuple[float, float]) -> str:\n",
    "        rad_start, rad_end = rad_lim\n",
    "        r_start, r_end = r_lim\n",
    "\n",
    "        if rad_start > rad_end:\n",
    "            rad_start, rad_end = rad_end, rad_start\n",
    "            r_start, r_end = r_end, r_start\n",
    "\n",
    "        arc_rads = np.arange(rad_start, rad_end, self.step)\n",
    "        arc_rads = np.append(arc_rads, rad_end)\n",
    "        arc_rs = np.linspace(r_start, r_end, len(arc_rads))\n",
    "\n",
    "        points = [PolarSVGPathBuilder._polar_to_cart(t, r) for t, r in zip(arc_rads, arc_rs)]\n",
    "        return PolarSVGPathBuilder._svg_path_from_points(points)\n",
    "    \n",
    "    # def line(self, rad_lim: tuple[float, float], r_lim: tuple[float, float]) -> str:\n",
    "    #     points = [PolarSVGPathBuilder._polar_to_cart(rad, r) for rad, r in zip(rad_lim, r_lim)]\n",
    "    #     return PolarSVGPathBuilder._svg_path_from_points(points)\n",
    "    \n",
    "    def arc_arrow(\n",
    "        self,\n",
    "        rad: float,\n",
    "        r: float,\n",
    "        drad: float,\n",
    "        dr: float,\n",
    "        head_length: float = np.pi / 90,\n",
    "        shaft_ratio: float = 0.5,\n",
    "    ) -> str:\n",
    "        shaft_size = dr * shaft_ratio\n",
    "        y_shaft_bottom = r + ((dr - shaft_size) / 2)\n",
    "        y_shaft_upper = r + dr - ((dr - shaft_size) / 2)\n",
    "\n",
    "        is_forward = drad >= 0\n",
    "        drad = abs(drad)\n",
    "        head_length = min(head_length, drad)\n",
    "\n",
    "        rad_shaft_tip = rad + (drad - head_length) if is_forward else rad - (drad - head_length)\n",
    "        rad_arrow_tip = rad + drad if is_forward else rad - drad\n",
    "\n",
    "        p1 = rad, y_shaft_bottom\n",
    "        p2 = rad_shaft_tip, y_shaft_bottom\n",
    "        p3 = rad_shaft_tip, r\n",
    "        p4 = rad_arrow_tip, (r + r + dr) / 2\n",
    "        p5 = rad_shaft_tip, r + dr\n",
    "        p6 = rad_shaft_tip, y_shaft_upper\n",
    "        p7 = rad, y_shaft_upper\n",
    "\n",
    "        shaft_rads = np.arange(p1[0], p2[0], self.step if is_forward else -self.step)\n",
    "        bottom_shaft = [PolarSVGPathBuilder._polar_to_cart(t, p1[1]) for t in shaft_rads]\n",
    "        top_shaft = [PolarSVGPathBuilder._polar_to_cart(t, p7[1]) for t in shaft_rads[::-1]]\n",
    "        head = [PolarSVGPathBuilder._polar_to_cart(*pt) for pt in [p2, p3, p4, p5, p6]]\n",
    "        path_points = bottom_shaft + head + top_shaft + [PolarSVGPathBuilder._polar_to_cart(*p1)]\n",
    "\n",
    "        return PolarSVGPathBuilder._svg_path_from_points(path_points, closed=True)"
   ]
  },
  {
   "cell_type": "code",
   "execution_count": 6,
   "metadata": {},
   "outputs": [
    {
     "data": {
      "application/vnd.plotly.v1+json": {
       "config": {
        "plotlyServerURL": "https://plot.ly"
       },
       "data": [],
       "layout": {
        "shapes": [
         {
          "fillcolor": "lightblue",
          "line": {
           "color": "blue",
           "width": 2
          },
          "path": "M 0.0 0.0 L 0.0 0.0 L 0.0 0.0 L 0.0 0.0 L 0.0 0.0 L 0.0 0.0 L 0.0 0.0 L 0.0 0.0 L 0.0 0.0 L 0.0 0.0 L 0.0 0.0 L 0.0 0.0 L 0.0 0.0 L 0.0 0.0 L 0.0 0.0 L 0.0 0.0 L 0.0 0.0 L 0.0 0.0 L 0.0 0.0 L 0.0 0.0 L 0.0 0.0 L 0.0 0.0 L 0.0 0.0 L 0.0 0.0 L 0.0 0.0 L 0.0 0.0 L 0.0 0.0 L 0.0 0.0 L 0.0 0.0 L 0.0 0.0 L 0.0 0.0 L 0.0 0.0 L 0.0 0.0 L 0.0 0.0 L 0.0 0.0 L 0.0 0.0 L 0.0 0.0 L 0.0 0.0 L 0.0 0.0 L 0.0 0.0 L 0.0 0.0 L 0.0 0.0 L 0.0 0.0 L 0.0 0.0 L 0.0 0.0 L 0.0 0.0 L 0.0 0.0 L 0.0 0.0 L 0.0 0.0 L 0.0 0.0 L 0.0 0.0 L 0.0 0.0 L 0.0 0.0 L 0.0 0.0 L 0.0 0.0 L 0.0 0.0 L 0.0 0.0 L 0.0 0.0 L 0.0 0.0 L 0.0 0.0 L 0.0 0.0 L 0.0 0.0 L 0.0 0.0 L 0.0 0.0 L 0.0 0.0 L 0.0 0.0 L 0.0 0.0 L 0.0 0.0 L 0.0 0.0 L 0.0 0.0 L 0.0 0.0 L 0.0 0.0 L 0.0 0.0 L 0.0 0.0 L 0.0 0.0 L 0.0 0.0 L 0.0 0.0 L 0.0 0.0 L 0.0 0.0 L 0.0 0.0 L 0.0 0.0 L 0.0 0.0 L 0.0 0.0 L 0.0 0.0 L 0.0 0.0 L 0.0 0.0 L 0.0 0.0 L 0.0 0.0 L 0.0 0.0 L 0.0 0.0 L 0.0 0.0 L 0.0 0.0 L 0.0 0.0 L 0.0 0.0 L 0.0 0.0 L 0.0 0.0 L 0.0 0.0 L 0.0 0.0 L 0.0 0.0 L 0.0 0.0 L 0.0 0.0 L 0.0 0.0 L 0.0 0.0 L 0.0 0.0 L 0.0 0.0 L 0.0 0.0 L 0.0 0.0 L 0.0 0.0 L 0.0 0.0 L 0.0 0.0 L 0.0 0.0 L 0.0 0.0 L 0.0 0.0 L 0.0 0.0 L 0.0 0.0 L 0.0 0.0 L 0.0 0.0 L 0.0 0.0 L 0.0 0.0 L 0.0 0.0 L 0.0 0.0 L 0.0 0.0 L 0.0 0.0 L 0.0 0.0 L 0.0 0.0 L 0.0 0.0 L 0.0 0.0 L 0.0 0.0 L 0.0 0.0 L 0.0 0.0 L 0.0 0.0 L 0.0 0.0 L 0.0 0.0 L 0.0 0.0 L 0.0 0.0 L 0.0 0.0 L 0.0 0.0 L 0.0 0.0 L 0.0 0.0 L 0.0 0.0 L 0.0 0.0 L 0.0 0.0 L 0.0 0.0 L 0.0 0.0 L 0.0 0.0 L 0.0 0.0 L 0.0 0.0 L 0.0 0.0 L 0.0 0.0 L 0.0 0.0 L 0.0 0.0 L 0.0 0.0 L 0.0 0.0 L 0.0 0.0 L 0.0 0.0 L 0.0 0.0 L 0.0 0.0 L 0.0 0.0 L -0.0 0.0 L -0.0 0.0 L -0.0 0.0 L -0.0 0.0 L -0.0 0.0 L -0.0 0.0 L -0.0 0.0 L -0.0 0.0 L -0.0 0.0 L -0.0 0.0 L -0.0 0.0 L -0.0 0.0 L -0.0 0.0 L -0.0 0.0 L -0.0 0.0 L -0.0 0.0 L -0.0 0.0 L -0.0 0.0 L -0.0 0.0 L -0.0 0.0 L -0.0 0.0 L -0.0 0.0 L -0.0 0.0 L -0.0 0.0 L -0.0 0.0 L -0.0 0.0 L -0.0 0.0 L -0.0 0.0 L -0.0 0.0 L -0.0 0.0 L -0.0 0.0 L -0.0 0.0 L -0.0 0.0 L -0.0 0.0 L -0.0 0.0 L -0.0 0.0 L -0.0 0.0 L -0.0 0.0 L -0.0 0.0 L -0.0 0.0 L -0.0 0.0 L -0.0 0.0 L -0.0 0.0 L -4.161468365471424 9.092974268256818 L -4.0703320665926555 9.134133613412253 L -3.9787887378991598 9.174379552818099 L -3.88684753364752 9.213708061913955 L -3.794517647881545 9.252115207881683 L -3.7018083135128688 9.289597150038693 L -3.6087288013976715 9.326150140222005 L -3.5152884194095986 9.361770523163061 L -3.4214965115089817 9.396454736853249 L -3.3273624568084537 9.430199312900104 L -3.232895668635036 9.463000876874144 L -3.1381055935888247 9.494856148646305 L -3.0430017105983342 9.525761942715953 L -2.94759352997261 9.555715168529439 L -2.8518905924502085 9.584712830789142 L -2.7559024682451296 9.612752029752999 L -2.659638756089804 9.63982996152448 L -2.5631090822752274 9.665943918332975 L -2.4663230996883403 9.691091288804563 L -2.369290486846747 9.715269558223152 L -2.272020946930871 9.738476308781951 L -2.1745242068136466 9.760709219825243 L -2.076810016087838 9.781966068080447 L -1.97888814609109 9.802244727880455 L -1.880768388928801 9.821543171376184 L -1.7824605564949207 9.83985946873937 L -1.6839744794907703 9.857191788355536 L -1.5853200064419775 9.873538397007165 L -1.4865070027136364 9.888897660047014 L -1.3875453495237755 9.90326804156158 L -1.2884449429552465 9.916648104524686 L -1.1892156929661222 9.929036510941184 L -1.089867522398711 9.94043202198076 L -0.99041036598728 9.950833498101803 L -0.8908541693645919 9.960239899165368 L -0.7912088880673408 9.968650284539189 L -0.6914844865406217 9.976063813191736 L -0.5916909371414836 9.982479743776324 L -0.49183821914170556 9.98789743470524 L -0.3919363177298771 9.992316344213904 L -0.29199522301288816 9.99573603041505 L -0.1920249290169265 9.998156151342908 L -0.09203543268808337 9.9995764649874 L 0.007963267107332634 9.999996829318347 L 0.10796117058267392 9.999417202299663 L 0.20794827803092428 9.99783764189357 L 0.3079145908246612 9.99525830605479 L 0.40785011241591035 9.99167945271476 L 0.5077448493357918 9.987101439755829 L 0.607588812193859 9.98152472497548 L 0.7073720166770291 9.974949866040545 L 0.8070844845480063 9.967377520431434 L 0.9067162446430967 9.9588084453764 L 1.0062573338693173 9.949243497775809 L 1.105697798200696 9.93868363411645 L 1.2050276936736661 9.927129910375886 L 1.3042370873814555 9.914583481916864 L 1.4033160584673674 9.901045603371777 L 1.5022546991168584 9.886517628517197 L 1.6010431155483127 9.871001010138503 L 1.6996714290024082 9.854497299884603 L 1.7981297767299935 9.837008148112766 L 1.8964083129783424 9.818535303723598 L 1.9944972099757285 9.799080613986142 L 2.092386658914193 9.778646024353163 L 2.1900668709304147 9.757233578266591 L 2.287528078084594 9.734845416953194 L 2.3847605343372313 9.711483779210447 L 2.481754516523729 9.687151001182652 L 2.578500325326696 9.66184951612734 L 2.6749882862458736 9.63558185417193 L 2.7712087505655756 9.608350642060726 L 2.867152096319555 9.580158602892249 L 2.9628087292531875 9.551008555846924 L 3.0581690837828934 9.520903415905158 L 3.1532236239526865 9.489846193555863 L 3.247962844387762 9.457839994495389 L 3.3423772712450264 9.424888019316974 L 3.4364574631604707 9.390993563190676 L 3.530194012193304 9.35616001553386 L 3.623577544766736 9.320390859672262 L 3.7165987226053296 9.283689672491667 L 3.8092482436688186 9.246060124080204 L 3.9015168430823026 9.207505977361357 L 3.993395294062732 9.168031087717669 L 4.084874408841571 9.127639402605212 L 4.1759450395835795 9.086334961158833 L 4.2665980793015725 9.04412189378826 L 4.356824462767121 9.001004421765051 L 4.446615167417068 8.956986856800476 L 4.5359612142557735 8.912073600614354 L 4.6248536687530075 8.866269144494872 L 4.7132836417374 8.819578068849475 L 4.801242290285341 8.772005042746816 L 4.888720818605275 8.723554823449863 L 4.97571047891727 8.67423225594017 L 5.062202572327784 8.624042272433384 L 5.148188449699553 8.572989891886033 L 5.233659512516495 8.52108021949363 L 5.3186072137435545 8.468318446180152 L 5.403023058681398 8.414709848078965 L 5.486898605815876 8.360259786005205 L 5.570225467662173 8.304973704919705 L 5.652995311603544 8.2488571333845 L 5.735199860724567 8.191915683009983 L 5.8168308946388345 8.134155047893737 L 5.8978802503109815 8.075581004051143 L 5.978339822872982 8.016199408837771 L 6.058201566434628 7.95601620036366 L 6.137457494888116 7.895037396899505 L 6.216099682706644 7.833269096274834 L 6.294120265736969 7.770717475268238 L 6.3715114419858025 7.707388788989693 L 6.448265472400012 7.643289370255051 L 6.524374681640519 7.57842562895277 L 6.599831458849822 7.512804051402927 L 6.674628258413081 7.446431199708593 L 6.74875760071267 7.379313711099628 L 6.822212072876135 7.311458297268959 L 6.894984329517469 7.242871743701426 L 6.967067093471654 7.173560908995228 L 7.038453156522361 7.103532724176079 L 7.109135380122773 7.0327941920041015 L 7.179106696109433 6.961352386273568 L 7.248360107409052 6.889214451105513 L 7.316888688738209 6.816387600233341 L 7.38468558729588 6.7428791162814505 L 7.451744023448704 6.668696350036979 L 7.518057291408951 6.5938467197147315 L 7.583618759905082 6.518337710215366 L 7.648421872844883 6.442176872376911 L 7.712460149971065 6.36537182221968 L 7.775727187509279 6.287930240184686 L 7.838216658808492 6.209859870365597 L 7.899922314973651 6.131168519734338 L 7.960837985490558 6.051864057360396 L 8.020957578842927 5.971954413623921 L 8.080275083121519 5.891447579422695 L 8.13878456662534 5.810351605373051 L 8.196480178454795 5.728674601004813 L 8.253356149096783 5.6464247339503535 L 8.309406791001635 5.563610229127837 L 8.36462649915187 5.480239367918736 L 8.419009751622687 5.396320487339693 L 8.47255111013416 5.3118619792088335 L 8.525245220595057 5.226872289306592 L 8.577086813638243 5.1413599165311314 L 8.62807070514761 5.055333412048469 L 8.678191796776499 4.968801378437368 L 8.727445076457514 4.881772468829075 L 8.775825618903728 4.79425538604203 L 8.823328586101214 4.70625888171158 L 8.86994922779284 4.617791755414829 L 8.91568288195329 4.528862853790684 L 8.960524975255252 4.439481069655198 L 9.004471023526769 4.349655341112302 L 9.047516632199633 4.2593946506599965 L 9.08965749674885 4.1687080242921075 L 9.130889403123083 4.077604530595702 L 9.171208228166051 3.9860932798442295 L 9.210609940028851 3.8941834230865053 L 9.249090598573131 3.801884151231614 L 9.286646355765102 3.7092046941298267 L 9.323273456060345 3.61615431964962 L 9.358968236779347 3.5227423327508993 L 9.393727128473788 3.428978074554514 L 9.427546655283463 3.334870921408144 L 9.46042343528387 3.2404302839486836 L 9.492354180824409 3.1456656061611774 L 9.523335698857133 3.050586364434435 L 9.55336489125606 2.9552020666133956 L 9.582438755126972 2.8595222510483556 L 9.61055438310771 2.7635564856411374 L 9.637708963658906 2.6673143668883115 L 9.663899781345132 2.570805518921551 L 9.689124217106448 2.474039592545229 L 9.713379748520296 2.377026264271346 L 9.73666395005375 2.279775235351884 L 9.758974493306056 2.182296230808693 L 9.780309147241482 2.0845989984609954 L 9.800665778412416 1.9866933079506122 L 9.820042351172702 1.8885889497650057 L 9.838436927881215 1.7902957342582417 L 9.855847669095608 1.6918234906699603 L 9.87227283375627 1.5931820661424598 L 9.887710779360422 1.494381324735992 L 9.90215996212637 1.395431146442365 L 9.915618937147881 1.2963414261969486 L 9.928086358538662 1.1971220728891936 L 9.939560979566968 1.0977830083717481 L 9.950041652780259 0.9983341664682815 L 9.959527330119943 0.8987854919801104 L 9.968017063026194 0.799146939691727 L 9.975510002532795 0.6994284733753277 L 9.982005399352042 0.599640064794446 L 9.987502603949663 0.4997916927067833 L 9.99200106660978 0.3998933418663416 L 9.995500337489876 0.2999550020249566 L 9.998000066665778 0.1999866669333308 L 9.999500004166652 0.09999833334166665 L 10.0 0.0 L 0.0 0.0 Z",
          "type": "path"
         }
        ],
        "showlegend": false,
        "template": {
         "data": {
          "bar": [
           {
            "error_x": {
             "color": "#2a3f5f"
            },
            "error_y": {
             "color": "#2a3f5f"
            },
            "marker": {
             "line": {
              "color": "#E5ECF6",
              "width": 0.5
             },
             "pattern": {
              "fillmode": "overlay",
              "size": 10,
              "solidity": 0.2
             }
            },
            "type": "bar"
           }
          ],
          "barpolar": [
           {
            "marker": {
             "line": {
              "color": "#E5ECF6",
              "width": 0.5
             },
             "pattern": {
              "fillmode": "overlay",
              "size": 10,
              "solidity": 0.2
             }
            },
            "type": "barpolar"
           }
          ],
          "carpet": [
           {
            "aaxis": {
             "endlinecolor": "#2a3f5f",
             "gridcolor": "white",
             "linecolor": "white",
             "minorgridcolor": "white",
             "startlinecolor": "#2a3f5f"
            },
            "baxis": {
             "endlinecolor": "#2a3f5f",
             "gridcolor": "white",
             "linecolor": "white",
             "minorgridcolor": "white",
             "startlinecolor": "#2a3f5f"
            },
            "type": "carpet"
           }
          ],
          "choropleth": [
           {
            "colorbar": {
             "outlinewidth": 0,
             "ticks": ""
            },
            "type": "choropleth"
           }
          ],
          "contour": [
           {
            "colorbar": {
             "outlinewidth": 0,
             "ticks": ""
            },
            "colorscale": [
             [
              0,
              "#0d0887"
             ],
             [
              0.1111111111111111,
              "#46039f"
             ],
             [
              0.2222222222222222,
              "#7201a8"
             ],
             [
              0.3333333333333333,
              "#9c179e"
             ],
             [
              0.4444444444444444,
              "#bd3786"
             ],
             [
              0.5555555555555556,
              "#d8576b"
             ],
             [
              0.6666666666666666,
              "#ed7953"
             ],
             [
              0.7777777777777778,
              "#fb9f3a"
             ],
             [
              0.8888888888888888,
              "#fdca26"
             ],
             [
              1,
              "#f0f921"
             ]
            ],
            "type": "contour"
           }
          ],
          "contourcarpet": [
           {
            "colorbar": {
             "outlinewidth": 0,
             "ticks": ""
            },
            "type": "contourcarpet"
           }
          ],
          "heatmap": [
           {
            "colorbar": {
             "outlinewidth": 0,
             "ticks": ""
            },
            "colorscale": [
             [
              0,
              "#0d0887"
             ],
             [
              0.1111111111111111,
              "#46039f"
             ],
             [
              0.2222222222222222,
              "#7201a8"
             ],
             [
              0.3333333333333333,
              "#9c179e"
             ],
             [
              0.4444444444444444,
              "#bd3786"
             ],
             [
              0.5555555555555556,
              "#d8576b"
             ],
             [
              0.6666666666666666,
              "#ed7953"
             ],
             [
              0.7777777777777778,
              "#fb9f3a"
             ],
             [
              0.8888888888888888,
              "#fdca26"
             ],
             [
              1,
              "#f0f921"
             ]
            ],
            "type": "heatmap"
           }
          ],
          "histogram": [
           {
            "marker": {
             "pattern": {
              "fillmode": "overlay",
              "size": 10,
              "solidity": 0.2
             }
            },
            "type": "histogram"
           }
          ],
          "histogram2d": [
           {
            "colorbar": {
             "outlinewidth": 0,
             "ticks": ""
            },
            "colorscale": [
             [
              0,
              "#0d0887"
             ],
             [
              0.1111111111111111,
              "#46039f"
             ],
             [
              0.2222222222222222,
              "#7201a8"
             ],
             [
              0.3333333333333333,
              "#9c179e"
             ],
             [
              0.4444444444444444,
              "#bd3786"
             ],
             [
              0.5555555555555556,
              "#d8576b"
             ],
             [
              0.6666666666666666,
              "#ed7953"
             ],
             [
              0.7777777777777778,
              "#fb9f3a"
             ],
             [
              0.8888888888888888,
              "#fdca26"
             ],
             [
              1,
              "#f0f921"
             ]
            ],
            "type": "histogram2d"
           }
          ],
          "histogram2dcontour": [
           {
            "colorbar": {
             "outlinewidth": 0,
             "ticks": ""
            },
            "colorscale": [
             [
              0,
              "#0d0887"
             ],
             [
              0.1111111111111111,
              "#46039f"
             ],
             [
              0.2222222222222222,
              "#7201a8"
             ],
             [
              0.3333333333333333,
              "#9c179e"
             ],
             [
              0.4444444444444444,
              "#bd3786"
             ],
             [
              0.5555555555555556,
              "#d8576b"
             ],
             [
              0.6666666666666666,
              "#ed7953"
             ],
             [
              0.7777777777777778,
              "#fb9f3a"
             ],
             [
              0.8888888888888888,
              "#fdca26"
             ],
             [
              1,
              "#f0f921"
             ]
            ],
            "type": "histogram2dcontour"
           }
          ],
          "mesh3d": [
           {
            "colorbar": {
             "outlinewidth": 0,
             "ticks": ""
            },
            "type": "mesh3d"
           }
          ],
          "parcoords": [
           {
            "line": {
             "colorbar": {
              "outlinewidth": 0,
              "ticks": ""
             }
            },
            "type": "parcoords"
           }
          ],
          "pie": [
           {
            "automargin": true,
            "type": "pie"
           }
          ],
          "scatter": [
           {
            "fillpattern": {
             "fillmode": "overlay",
             "size": 10,
             "solidity": 0.2
            },
            "type": "scatter"
           }
          ],
          "scatter3d": [
           {
            "line": {
             "colorbar": {
              "outlinewidth": 0,
              "ticks": ""
             }
            },
            "marker": {
             "colorbar": {
              "outlinewidth": 0,
              "ticks": ""
             }
            },
            "type": "scatter3d"
           }
          ],
          "scattercarpet": [
           {
            "marker": {
             "colorbar": {
              "outlinewidth": 0,
              "ticks": ""
             }
            },
            "type": "scattercarpet"
           }
          ],
          "scattergeo": [
           {
            "marker": {
             "colorbar": {
              "outlinewidth": 0,
              "ticks": ""
             }
            },
            "type": "scattergeo"
           }
          ],
          "scattergl": [
           {
            "marker": {
             "colorbar": {
              "outlinewidth": 0,
              "ticks": ""
             }
            },
            "type": "scattergl"
           }
          ],
          "scattermap": [
           {
            "marker": {
             "colorbar": {
              "outlinewidth": 0,
              "ticks": ""
             }
            },
            "type": "scattermap"
           }
          ],
          "scattermapbox": [
           {
            "marker": {
             "colorbar": {
              "outlinewidth": 0,
              "ticks": ""
             }
            },
            "type": "scattermapbox"
           }
          ],
          "scatterpolar": [
           {
            "marker": {
             "colorbar": {
              "outlinewidth": 0,
              "ticks": ""
             }
            },
            "type": "scatterpolar"
           }
          ],
          "scatterpolargl": [
           {
            "marker": {
             "colorbar": {
              "outlinewidth": 0,
              "ticks": ""
             }
            },
            "type": "scatterpolargl"
           }
          ],
          "scatterternary": [
           {
            "marker": {
             "colorbar": {
              "outlinewidth": 0,
              "ticks": ""
             }
            },
            "type": "scatterternary"
           }
          ],
          "surface": [
           {
            "colorbar": {
             "outlinewidth": 0,
             "ticks": ""
            },
            "colorscale": [
             [
              0,
              "#0d0887"
             ],
             [
              0.1111111111111111,
              "#46039f"
             ],
             [
              0.2222222222222222,
              "#7201a8"
             ],
             [
              0.3333333333333333,
              "#9c179e"
             ],
             [
              0.4444444444444444,
              "#bd3786"
             ],
             [
              0.5555555555555556,
              "#d8576b"
             ],
             [
              0.6666666666666666,
              "#ed7953"
             ],
             [
              0.7777777777777778,
              "#fb9f3a"
             ],
             [
              0.8888888888888888,
              "#fdca26"
             ],
             [
              1,
              "#f0f921"
             ]
            ],
            "type": "surface"
           }
          ],
          "table": [
           {
            "cells": {
             "fill": {
              "color": "#EBF0F8"
             },
             "line": {
              "color": "white"
             }
            },
            "header": {
             "fill": {
              "color": "#C8D4E3"
             },
             "line": {
              "color": "white"
             }
            },
            "type": "table"
           }
          ]
         },
         "layout": {
          "annotationdefaults": {
           "arrowcolor": "#2a3f5f",
           "arrowhead": 0,
           "arrowwidth": 1
          },
          "autotypenumbers": "strict",
          "coloraxis": {
           "colorbar": {
            "outlinewidth": 0,
            "ticks": ""
           }
          },
          "colorscale": {
           "diverging": [
            [
             0,
             "#8e0152"
            ],
            [
             0.1,
             "#c51b7d"
            ],
            [
             0.2,
             "#de77ae"
            ],
            [
             0.3,
             "#f1b6da"
            ],
            [
             0.4,
             "#fde0ef"
            ],
            [
             0.5,
             "#f7f7f7"
            ],
            [
             0.6,
             "#e6f5d0"
            ],
            [
             0.7,
             "#b8e186"
            ],
            [
             0.8,
             "#7fbc41"
            ],
            [
             0.9,
             "#4d9221"
            ],
            [
             1,
             "#276419"
            ]
           ],
           "sequential": [
            [
             0,
             "#0d0887"
            ],
            [
             0.1111111111111111,
             "#46039f"
            ],
            [
             0.2222222222222222,
             "#7201a8"
            ],
            [
             0.3333333333333333,
             "#9c179e"
            ],
            [
             0.4444444444444444,
             "#bd3786"
            ],
            [
             0.5555555555555556,
             "#d8576b"
            ],
            [
             0.6666666666666666,
             "#ed7953"
            ],
            [
             0.7777777777777778,
             "#fb9f3a"
            ],
            [
             0.8888888888888888,
             "#fdca26"
            ],
            [
             1,
             "#f0f921"
            ]
           ],
           "sequentialminus": [
            [
             0,
             "#0d0887"
            ],
            [
             0.1111111111111111,
             "#46039f"
            ],
            [
             0.2222222222222222,
             "#7201a8"
            ],
            [
             0.3333333333333333,
             "#9c179e"
            ],
            [
             0.4444444444444444,
             "#bd3786"
            ],
            [
             0.5555555555555556,
             "#d8576b"
            ],
            [
             0.6666666666666666,
             "#ed7953"
            ],
            [
             0.7777777777777778,
             "#fb9f3a"
            ],
            [
             0.8888888888888888,
             "#fdca26"
            ],
            [
             1,
             "#f0f921"
            ]
           ]
          },
          "colorway": [
           "#636efa",
           "#EF553B",
           "#00cc96",
           "#ab63fa",
           "#FFA15A",
           "#19d3f3",
           "#FF6692",
           "#B6E880",
           "#FF97FF",
           "#FECB52"
          ],
          "font": {
           "color": "#2a3f5f"
          },
          "geo": {
           "bgcolor": "white",
           "lakecolor": "white",
           "landcolor": "#E5ECF6",
           "showlakes": true,
           "showland": true,
           "subunitcolor": "white"
          },
          "hoverlabel": {
           "align": "left"
          },
          "hovermode": "closest",
          "mapbox": {
           "style": "light"
          },
          "paper_bgcolor": "white",
          "plot_bgcolor": "#E5ECF6",
          "polar": {
           "angularaxis": {
            "gridcolor": "white",
            "linecolor": "white",
            "ticks": ""
           },
           "bgcolor": "#E5ECF6",
           "radialaxis": {
            "gridcolor": "white",
            "linecolor": "white",
            "ticks": ""
           }
          },
          "scene": {
           "xaxis": {
            "backgroundcolor": "#E5ECF6",
            "gridcolor": "white",
            "gridwidth": 2,
            "linecolor": "white",
            "showbackground": true,
            "ticks": "",
            "zerolinecolor": "white"
           },
           "yaxis": {
            "backgroundcolor": "#E5ECF6",
            "gridcolor": "white",
            "gridwidth": 2,
            "linecolor": "white",
            "showbackground": true,
            "ticks": "",
            "zerolinecolor": "white"
           },
           "zaxis": {
            "backgroundcolor": "#E5ECF6",
            "gridcolor": "white",
            "gridwidth": 2,
            "linecolor": "white",
            "showbackground": true,
            "ticks": "",
            "zerolinecolor": "white"
           }
          },
          "shapedefaults": {
           "line": {
            "color": "#2a3f5f"
           }
          },
          "ternary": {
           "aaxis": {
            "gridcolor": "white",
            "linecolor": "white",
            "ticks": ""
           },
           "baxis": {
            "gridcolor": "white",
            "linecolor": "white",
            "ticks": ""
           },
           "bgcolor": "#E5ECF6",
           "caxis": {
            "gridcolor": "white",
            "linecolor": "white",
            "ticks": ""
           }
          },
          "title": {
           "x": 0.05
          },
          "xaxis": {
           "automargin": true,
           "gridcolor": "white",
           "linecolor": "white",
           "ticks": "",
           "title": {
            "standoff": 15
           },
           "zerolinecolor": "white",
           "zerolinewidth": 2
          },
          "yaxis": {
           "automargin": true,
           "gridcolor": "white",
           "linecolor": "white",
           "ticks": "",
           "title": {
            "standoff": 15
           },
           "zerolinecolor": "white",
           "zerolinewidth": 2
          }
         }
        },
        "xaxis": {
         "range": [
          -10,
          10
         ],
         "zeroline": false
        },
        "yaxis": {
         "range": [
          -10,
          10
         ],
         "scaleanchor": "x",
         "scaleratio": 1,
         "zeroline": false
        }
       }
      }
     },
     "metadata": {},
     "output_type": "display_data"
    }
   ],
   "source": [
    "import plotly.graph_objects as go\n",
    "\n",
    "# Initialize Plotly figure\n",
    "fig = go.Figure()\n",
    "\n",
    "svg_path = PolarSVGPathBuilder().arc_rectangle(radr=(0,0), width=2, height=10)\n",
    "\n",
    "# Add the shape to the layout\n",
    "fig.update_layout(\n",
    "    shapes=[\n",
    "        dict(\n",
    "            type=\"path\",\n",
    "            path=svg_path,\n",
    "            fillcolor=\"lightblue\",\n",
    "            line=dict(color=\"blue\", width=2)\n",
    "        )\n",
    "    ],\n",
    "    xaxis=dict(range=[-10, 10], zeroline=False),\n",
    "    yaxis=dict(range=[-10, 10], scaleanchor=\"x\", scaleratio=1, zeroline=False),\n",
    "    showlegend=False,\n",
    ")"
   ]
  },
  {
   "cell_type": "code",
   "execution_count": null,
   "metadata": {},
   "outputs": [],
   "source": [
    "import pycirclize_TEST"
   ]
  },
  {
   "cell_type": "code",
   "execution_count": null,
   "metadata": {},
   "outputs": [],
   "source": [
    "from pycirclize_TEST import Circos\n",
    "from pycirclize_TEST.utils import load_eukaryote_example_dataset\n",
    "\n",
    "# Load hg38 dataset (https://github.com/moshi4/pycirclize-data/tree/main/eukaryote/hg38)\n",
    "chr_bed_file, cytoband_file, _ = load_eukaryote_example_dataset(\"hg38\")\n",
    "\n",
    "# Initialize Circos from BED chromosomes\n",
    "circos = Circos.initialize_from_bed(chr_bed_file, space=3)\n",
    "circos.text(\"Homo sapiens (hg38)\", size=15)\n",
    "\n",
    "# # Add cytoband tracks from cytoband file\n",
    "# circos.add_cytoband_tracks((95, 100), cytoband_file)\n",
    "\n",
    "# Plot chromosome name\n",
    "for sector in circos.sectors:\n",
    "    sector.text(sector.name, size=10)\n",
    "\n",
    "fig = circos.plotfig()"
   ]
  },
  {
   "cell_type": "code",
   "execution_count": null,
   "metadata": {},
   "outputs": [],
   "source": []
  },
  {
   "cell_type": "code",
   "execution_count": null,
   "metadata": {},
   "outputs": [],
   "source": [
    "chr_bed_file"
   ]
  },
  {
   "cell_type": "code",
   "execution_count": null,
   "metadata": {},
   "outputs": [],
   "source": [
    "cytoband_file"
   ]
  },
  {
   "cell_type": "code",
   "execution_count": null,
   "metadata": {},
   "outputs": [],
   "source": []
  }
 ],
 "metadata": {
  "kernelspec": {
   "display_name": "pyCirclize-Ghh1XvjT",
   "language": "python",
   "name": "python3"
  },
  "language_info": {
   "codemirror_mode": {
    "name": "ipython",
    "version": 3
   },
   "file_extension": ".py",
   "mimetype": "text/x-python",
   "name": "python",
   "nbconvert_exporter": "python",
   "pygments_lexer": "ipython3",
   "version": "3.12.9"
  }
 },
 "nbformat": 4,
 "nbformat_minor": 2
}
